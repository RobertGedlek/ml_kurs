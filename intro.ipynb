{
  "nbformat": 4,
  "nbformat_minor": 0,
  "metadata": {
    "colab": {
      "provenance": [],
      "authorship_tag": "ABX9TyNS9scXWcDOF9b2MOcoRD20",
      "include_colab_link": true
    },
    "kernelspec": {
      "name": "python3",
      "display_name": "Python 3"
    },
    "language_info": {
      "name": "python"
    }
  },
  "cells": [
    {
      "cell_type": "markdown",
      "metadata": {
        "id": "view-in-github",
        "colab_type": "text"
      },
      "source": [
        "<a href=\"https://colab.research.google.com/github/RobertGedlek/ml_kurs/blob/main/intro.ipynb\" target=\"_parent\"><img src=\"https://colab.research.google.com/assets/colab-badge.svg\" alt=\"Open In Colab\"/></a>"
      ]
    },
    {
      "cell_type": "code",
      "execution_count": 1,
      "metadata": {
        "colab": {
          "base_uri": "https://localhost:8080/"
        },
        "id": "qziYkCpFzOu8",
        "outputId": "c565179e-9df8-46d8-a74c-0d492ed54c23"
      },
      "outputs": [
        {
          "output_type": "stream",
          "name": "stdout",
          "text": [
            "hello bobby\n"
          ]
        }
      ],
      "source": [
        "print(\"hello bobby\");"
      ]
    },
    {
      "cell_type": "code",
      "source": [],
      "metadata": {
        "id": "xufq53yGzxdd"
      },
      "execution_count": 1,
      "outputs": []
    }
  ]
}